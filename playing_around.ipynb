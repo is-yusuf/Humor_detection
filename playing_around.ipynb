{
 "cells": [
  {
   "cell_type": "code",
   "execution_count": 1,
   "id": "18c2c992",
   "metadata": {},
   "outputs": [
    {
     "name": "stdout",
     "output_type": "stream",
     "text": [
      "\u001b[31mSarcasm_Headlines_Dataset.json\u001b[m\u001b[m    \u001b[31mplaying_around.ipynb\u001b[m\u001b[m\r\n",
      "\u001b[31mSarcasm_Headlines_Dataset_v2.json\u001b[m\u001b[m\r\n"
     ]
    }
   ],
   "source": [
    "!ls"
   ]
  },
  {
   "cell_type": "code",
   "execution_count": 2,
   "id": "89a5fee4",
   "metadata": {},
   "outputs": [],
   "source": [
    "import pandas as pd\n",
    "import matplotlib.pyplot as plt\n",
    "import numpy as np"
   ]
  },
  {
   "cell_type": "code",
   "execution_count": 4,
   "id": "6fe891ca",
   "metadata": {},
   "outputs": [],
   "source": [
    "data = pd.read_json(\"./Sarcasm_Headlines_Dataset_v2.json\",lines=True)"
   ]
  },
  {
   "cell_type": "code",
   "execution_count": 6,
   "id": "6fc04085",
   "metadata": {},
   "outputs": [
    {
     "data": {
      "text/plain": [
       "0        thirtysomething scientists unveil doomsday clo...\n",
       "1        dem rep. totally nails why congress is falling...\n",
       "2        eat your veggies: 9 deliciously different recipes\n",
       "3        inclement weather prevents liar from getting t...\n",
       "4        mother comes pretty close to using word 'strea...\n",
       "                               ...                        \n",
       "28614         jews to celebrate rosh hashasha or something\n",
       "28615    internal affairs investigator disappointed con...\n",
       "28616    the most beautiful acceptance speech this week...\n",
       "28617    mars probe destroyed by orbiting spielberg-gat...\n",
       "28618                   dad clarifies this not a food stop\n",
       "Name: headline, Length: 28619, dtype: object"
      ]
     },
     "execution_count": 6,
     "metadata": {},
     "output_type": "execute_result"
    }
   ],
   "source": [
    "data.headline.c"
   ]
  },
  {
   "cell_type": "code",
   "execution_count": null,
   "id": "03155705",
   "metadata": {},
   "outputs": [],
   "source": []
  }
 ],
 "metadata": {
  "kernelspec": {
   "display_name": "Python 3 (ipykernel)",
   "language": "python",
   "name": "python3"
  },
  "language_info": {
   "codemirror_mode": {
    "name": "ipython",
    "version": 3
   },
   "file_extension": ".py",
   "mimetype": "text/x-python",
   "name": "python",
   "nbconvert_exporter": "python",
   "pygments_lexer": "ipython3",
   "version": "3.9.5"
  }
 },
 "nbformat": 4,
 "nbformat_minor": 5
}
